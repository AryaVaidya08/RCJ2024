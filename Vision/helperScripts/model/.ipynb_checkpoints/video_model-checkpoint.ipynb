{
 "cells": [
  {
   "cell_type": "code",
   "execution_count": 1,
   "id": "c438cbc8-472c-4c77-9615-8394c0773d92",
   "metadata": {},
   "outputs": [],
   "source": [
    "import cv2\n",
    "import numpy as np\n",
    "import tensorflow\n",
    "import keras\n",
    "from keras import layers as L\n",
    "import ssl\n",
    "import os"
   ]
  },
  {
   "cell_type": "code",
   "execution_count": 2,
   "id": "a8ee878e-dd3a-48d3-8beb-2010c3c1d3e8",
   "metadata": {},
   "outputs": [],
   "source": [
    "ssl._create_default_https_context = ssl._create_unverified_context"
   ]
  },
  {
   "cell_type": "code",
   "execution_count": 3,
   "id": "c77b784b-e7bf-48fb-8636-86bdeeb1ad24",
   "metadata": {},
   "outputs": [],
   "source": [
    "def build_model(input_shape, num_classes=3):\n",
    "    \"\"\" Inputs \"\"\"\n",
    "    inputs = L.Input(input_shape)\n",
    "\n",
    "    \"\"\" Backbone \"\"\"\n",
    "    backbone = keras.applications.MobileNetV2(\n",
    "        include_top=False,\n",
    "        weights=\"imagenet\",\n",
    "        input_tensor=inputs,\n",
    "        alpha=1.0\n",
    "    )\n",
    "    backbone.trainable = True\n",
    "    # backbone.summary()\n",
    "\n",
    "    \"\"\" Detection Head \"\"\"\n",
    "    x = backbone.output\n",
    "    x = L.Conv2D(256, kernel_size=1, padding=\"same\")(x)\n",
    "    x = L.BatchNormalization()(x)\n",
    "    x = L.Activation(\"relu\")(x)\n",
    "    x = L.GlobalAveragePooling2D()(x)\n",
    "    x = L.Dropout(0.5)(x)\n",
    "    bbox = L.Dense(4, activation=\"sigmoid\", name=\"bbox\")(x)\n",
    "    label = L.Dense(num_classes, activation=\"softmax\", name=\"label\")(x)\n",
    "\n",
    "    \"\"\" Model \"\"\"\n",
    "    model = keras.models.Model(inputs=[inputs], outputs=[bbox, label])\n",
    "    return model"
   ]
  },
  {
   "cell_type": "code",
   "execution_count": 4,
   "id": "58c7f2e7-f791-4807-b94c-2b99167db26d",
   "metadata": {},
   "outputs": [],
   "source": [
    "def load_model():\n",
    "    model_path = \"./model.weights.h5\"\n",
    "    \n",
    "    model = build_model((218, 384, 3))\n",
    "    model.load_weights(model_path)\n",
    "\n",
    "    return model"
   ]
  },
  {
   "cell_type": "code",
   "execution_count": 5,
   "id": "f28e3ba4-718b-4c6f-aede-a7f2d4884ebe",
   "metadata": {},
   "outputs": [
    {
     "ename": "SyntaxError",
     "evalue": "invalid syntax (1932890783.py, line 25)",
     "output_type": "error",
     "traceback": [
      "\u001b[0;36m  Cell \u001b[0;32mIn[5], line 25\u001b[0;36m\u001b[0m\n\u001b[0;31m    color = (79,, 202, 154)\u001b[0m\n\u001b[0m                ^\u001b[0m\n\u001b[0;31mSyntaxError\u001b[0m\u001b[0;31m:\u001b[0m invalid syntax\n"
     ]
    }
   ],
   "source": [
    "def show_video(model):\n",
    "    vid = cv2.VideoCapture(0)\n",
    "    \n",
    "    while True:\n",
    "        _, frame = vid.read()\n",
    "        grey = cv2.cvtColor(frame, cv2.COLOR_RGB2GRAY)\n",
    "        _, binary_result = cv2.threshold(grey, 127, 255, cv2.THRESH_BINARY) \n",
    "        cv2.imwrite(\"thing/img.jpg\", cv2.resize(binary_result, (384, 218)))\n",
    "        img = cv2.imread(\"thing/img.jpg\")\n",
    "        os.remove(\"thing/img.jpg\")\n",
    "\n",
    "        x = cv2.resize(img, (384, 218))\n",
    "        x = (x - 127.5) / 127.5\n",
    "        x = np.expand_dims(x, axis=0)\n",
    "\n",
    "        pred_bbox, label = model.predict(x, verbose=0)\n",
    "        \n",
    "        label_found = \"\"\n",
    "        color = (221, 221, 221)\n",
    "        if label[0][0] >= label[0][1] and label[0][0] >= label[0][2]:\n",
    "            label_found = \"H\"\n",
    "            color = (79, 42, 244)\n",
    "        elif label[0][1] >= label[0][0] and label[0][1] >= label[0][2]:\n",
    "            label_found = \"S\"\n",
    "            color = (79,, 202, 154)\n",
    "        elif label[0][2] >= label[0][0] and label[0][2] >= label[0][1]:\n",
    "            label_found = \"U\"\n",
    "            color = (197, 73, 245)\n",
    "\n",
    "        max_confidence = max(label[0][0], label[0][1], label[0][2])\n",
    "        if not max_confidence >= .85:\n",
    "            label_found = \"/\"\n",
    "\n",
    "        print(pred_bbox, label, label_found, max_confidence)\n",
    "\n",
    "        frame = cv2.resize(frame, (384, 218))\n",
    "        binary_result = cv2.resize(binary_result, (384, 218))\n",
    "\n",
    "        \n",
    "        font_size = 0.5\n",
    "        text = f\"{label_found} - {max_confidence:.3f}\"\n",
    "        cv2.putText(frame, text, (5, 20), cv2.FONT_HERSHEY_SIMPLEX, font_size, color, 2)\n",
    "        cv2.putText(binary_result, text, (5, 0), cv2.FONT_HERSHEY_SIMPLEX, font_size, color, 2)\n",
    "\n",
    "\n",
    "        cv2.imshow(\"Normal\", frame)\n",
    "        cv2.imshow(\"Letter Mask\", binary_result)\n",
    "\n",
    "        \n",
    "        if cv2.waitKey(1) & 0xFF == ord('q'):\n",
    "            break\n",
    "    \n",
    "    vid.release()\n",
    "    cv2.destroyAllWindows()"
   ]
  },
  {
   "cell_type": "code",
   "execution_count": 8,
   "id": "e5781543-c736-4949-a038-d3c741884142",
   "metadata": {},
   "outputs": [],
   "source": [
    "def main():\n",
    "    model = load_model()\n",
    "    show_video(model)"
   ]
  },
  {
   "cell_type": "code",
   "execution_count": 9,
   "id": "0b27a2c2-ee95-403a-add8-f87b5e25c822",
   "metadata": {},
   "outputs": [
    {
     "name": "stderr",
     "output_type": "stream",
     "text": [
      "/var/folders/4w/7mmrnj315pzgcqvpx7n96sf40000gn/T/ipykernel_69803/2947174705.py:6: UserWarning: `input_shape` is undefined or non-square, or `rows` is not in [96, 128, 160, 192, 224]. Weights for input shape (224, 224) will be loaded as the default.\n",
      "  backbone = keras.applications.MobileNetV2(\n"
     ]
    },
    {
     "ename": "NameError",
     "evalue": "name 'show_video' is not defined",
     "output_type": "error",
     "traceback": [
      "\u001b[0;31m---------------------------------------------------------------------------\u001b[0m",
      "\u001b[0;31mNameError\u001b[0m                                 Traceback (most recent call last)",
      "Cell \u001b[0;32mIn[9], line 1\u001b[0m\n\u001b[0;32m----> 1\u001b[0m main()\n",
      "Cell \u001b[0;32mIn[8], line 3\u001b[0m, in \u001b[0;36mmain\u001b[0;34m()\u001b[0m\n\u001b[1;32m      1\u001b[0m \u001b[38;5;28;01mdef\u001b[39;00m \u001b[38;5;21mmain\u001b[39m():\n\u001b[1;32m      2\u001b[0m     model \u001b[38;5;241m=\u001b[39m load_model()\n\u001b[0;32m----> 3\u001b[0m     show_video(model)\n",
      "\u001b[0;31mNameError\u001b[0m: name 'show_video' is not defined"
     ]
    }
   ],
   "source": [
    "main()"
   ]
  },
  {
   "cell_type": "code",
   "execution_count": null,
   "id": "6713e0e3-0a6e-4f95-9069-7d996c48c3f8",
   "metadata": {},
   "outputs": [],
   "source": [
    "MY CODE WORKS!!!!!!!!"
   ]
  },
  {
   "cell_type": "code",
   "execution_count": null,
   "id": "0ee71a15-4c3b-4818-a929-ba4fb740b10d",
   "metadata": {},
   "outputs": [],
   "source": []
  }
 ],
 "metadata": {
  "kernelspec": {
   "display_name": "Python 3 (ipykernel)",
   "language": "python",
   "name": "python3"
  },
  "language_info": {
   "codemirror_mode": {
    "name": "ipython",
    "version": 3
   },
   "file_extension": ".py",
   "mimetype": "text/x-python",
   "name": "python",
   "nbconvert_exporter": "python",
   "pygments_lexer": "ipython3",
   "version": "3.12.2"
  }
 },
 "nbformat": 4,
 "nbformat_minor": 5
}
