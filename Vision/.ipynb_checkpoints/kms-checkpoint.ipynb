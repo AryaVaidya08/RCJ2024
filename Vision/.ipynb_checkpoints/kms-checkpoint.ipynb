{
 "cells": [
  {
   "cell_type": "code",
   "execution_count": 12,
   "id": "2a3ba847-dc9c-44fe-beb4-87751a95e1e1",
   "metadata": {},
   "outputs": [],
   "source": [
    "import os\n",
    "os.environ[\"TF_CPP_MIN_LOG_LEVEL\"] = \"2\"\n",
    "\n",
    "import numpy as np\n",
    "import cv2\n",
    "import pandas as pd\n",
    "from glob import glob\n",
    "from sklearn.model_selection import train_test_split\n",
    "import tensorflow as tf\n",
    "from keras import callbacks\n",
    "from keras import optimizers\n",
    "#from model import buildModel"
   ]
  },
  {
   "cell_type": "code",
   "execution_count": 39,
   "id": "b7242987-9026-487a-9970-e3a95299a44d",
   "metadata": {},
   "outputs": [],
   "source": [
    "def createTrainAndTest():\n",
    "    thing = pd.read_csv(\"./images/version1/Labeled/H/Version_4_26_24/BB_Images.csv\")\n",
    "    train, test = train_test_split(thing, test_size=0.2)\n",
    "    train.to_csv(\"./images/version1/Labeled/H/Version_4_26_24/BB_Train_Images.csv\")\n",
    "    test.to_csv(\"./images/version1/Labeled/H/Version_4_26_24/BB_Test_Images.csv\")\n",
    "\n",
    "createTrainAndTest()"
   ]
  },
  {
   "cell_type": "code",
   "execution_count": 13,
   "id": "8aa7b336-fe73-4920-bd6b-e68e137794c7",
   "metadata": {},
   "outputs": [],
   "source": [
    "# Global Parameters\n",
    "global height\n",
    "global width\n",
    "global num_classes"
   ]
  },
  {
   "cell_type": "code",
   "execution_count": 4,
   "id": "befdaf98-8c14-4c58-8167-46b58699fa69",
   "metadata": {},
   "outputs": [],
   "source": [
    "def create_dir(path):\n",
    "    if not os.path.exists(path):\n",
    "        os.makedirs(path)"
   ]
  },
  {
   "cell_type": "code",
   "execution_count": 9,
   "id": "05ebf235-9707-400b-9aac-263a9624bd94",
   "metadata": {},
   "outputs": [],
   "source": [
    "def load_labels(path):\n",
    "    return [\"H\", \"S\", \"U\"]"
   ]
  },
  {
   "cell_type": "code",
   "execution_count": null,
   "id": "05ad7f71-81be-4810-9d45-74dd36b69a18",
   "metadata": {},
   "outputs": [],
   "source": []
  },
  {
   "cell_type": "code",
   "execution_count": 59,
   "id": "e0057213-0bd7-4720-b71a-27db79f24913",
   "metadata": {},
   "outputs": [],
   "source": [
    "def load_data(path, classes, train=True):\n",
    "    images = []\n",
    "    bboxes = []\n",
    "    labels = []\n",
    "\n",
    "    if train == True:\n",
    "        df = pd.read_csv(os.path.join(path, \"BB_Train_Images.csv\"), header=None)\n",
    "    else:\n",
    "        df = pd.read_csv(os.path.join(path, \"BB_Test_Images.csv\"), header=None)\n",
    "\n",
    "    print(df.dtypes)\n",
    "    \n",
    "    for index, row in df.iterrows():\n",
    "        print(row)\n",
    "        name = row[2]\n",
    "        width = row[3]\n",
    "        height = row[4]\n",
    "        x1 = row[5]\n",
    "        y1 = row[6]\n",
    "        x2 = row[7]\n",
    "        y2 = row[8]\n",
    "        label = row[9]\n",
    "        #label_name = classes[label]\n",
    "\n",
    "        image = os.path.join(path, \"images\", name)\n",
    "        bbox = [x1, y1, x2, y2]\n",
    "\n",
    "        images.append(image)\n",
    "        bboxes.append(bbox)\n",
    "        labels.append(label)\n",
    "    return images, bboxes, labels\n",
    "        "
   ]
  },
  {
   "cell_type": "code",
   "execution_count": 46,
   "id": "336bb60a-2a0e-4160-a5a4-511debd91957",
   "metadata": {},
   "outputs": [],
   "source": [
    "def load_dataset(path, classes, split=0.2):\n",
    "    ## train, validation, testing\n",
    "    train_images, train_bboxes, train_labels = load_data(path, classes, train=True)\n",
    "\n",
    "    split_size = int(len(train_images) * split)\n",
    "    train_images, valid_images = train_test_split(train_images, test_size=split_size, random_state=42)\n",
    "    train_bboxes, valid_bboxes = train_test_split(train_bboxes, test_size=split_size, random_state=42)\n",
    "    train_labels, valid_labels = train_test_split(train_labels, test_size=split_size, random_state=42)\n",
    "\n",
    "    test_images, test_bboxes, test_labels = load_data(path, classes, train=False)\n",
    "\n",
    "    return (train_images, train_bboxes, train_labels), (valid_images, valid_bboxes, valid_labels), (test_images, test_bboxes, test_labels)"
   ]
  },
  {
   "cell_type": "code",
   "execution_count": 53,
   "id": "10b962c9-a6a9-4299-80a3-2a7b0890fc91",
   "metadata": {},
   "outputs": [],
   "source": [
    "def main():\n",
    "    np.random.seed(42)\n",
    "    tf.random.set_seed(42)\n",
    "\n",
    "    create_dir(\"files\")\n",
    "\n",
    "    height = 256\n",
    "    width = 320\n",
    "    batch_size = 16\n",
    "    lr = 1e-4\n",
    "    num_epochs = 500\n",
    "\n",
    "    model_path = \"files/model.h5\"\n",
    "    csv_path = \"files/log.csv\"\n",
    "    dataset_path = \"./images/version1/Labeled/H/Version_4_26_24/\"\n",
    "\n",
    "    classes = load_labels(dataset_path)\n",
    "    num_classes = len(classes)\n",
    "\n",
    "    (train_images, train_bboxes, train_labels), (valid_images, valid_bboxes, valid_labels), (test_images, test_bboxes, test_labels) = load_dataset(dataset_path, classes, split=0.2)\n",
    "    print(train_images.shape)"
   ]
  },
  {
   "cell_type": "code",
   "execution_count": 60,
   "id": "355cfe17-cb5d-40c0-9d94-385753197600",
   "metadata": {},
   "outputs": [
    {
     "name": "stdout",
     "output_type": "stream",
     "text": [
      "0    float64\n",
      "1     object\n",
      "2     object\n",
      "3     object\n",
      "4     object\n",
      "5     object\n",
      "6     object\n",
      "7     object\n",
      "8     object\n",
      "9     object\n",
      "dtype: object\n",
      "0           NaN\n",
      "1    Unnamed: 0\n",
      "2         image\n",
      "3         width\n",
      "4        height\n",
      "5         x_min\n",
      "6         y_min\n",
      "7         x_max\n",
      "8         y_max\n",
      "9         label\n",
      "Name: 0, dtype: object\n"
     ]
    },
    {
     "ename": "TypeError",
     "evalue": "list indices must be integers or slices, not str",
     "output_type": "error",
     "traceback": [
      "\u001b[0;31m---------------------------------------------------------------------------\u001b[0m",
      "\u001b[0;31mTypeError\u001b[0m                                 Traceback (most recent call last)",
      "Cell \u001b[0;32mIn[60], line 1\u001b[0m\n\u001b[0;32m----> 1\u001b[0m main()\n",
      "Cell \u001b[0;32mIn[53], line 20\u001b[0m, in \u001b[0;36mmain\u001b[0;34m()\u001b[0m\n\u001b[1;32m     17\u001b[0m classes \u001b[38;5;241m=\u001b[39m load_labels(dataset_path)\n\u001b[1;32m     18\u001b[0m num_classes \u001b[38;5;241m=\u001b[39m \u001b[38;5;28mlen\u001b[39m(classes)\n\u001b[0;32m---> 20\u001b[0m (train_images, train_bboxes, train_labels), (valid_images, valid_bboxes, valid_labels), (test_images, test_bboxes, test_labels) \u001b[38;5;241m=\u001b[39m load_dataset(dataset_path, classes, split\u001b[38;5;241m=\u001b[39m\u001b[38;5;241m0.2\u001b[39m)\n\u001b[1;32m     21\u001b[0m \u001b[38;5;28mprint\u001b[39m(train_images\u001b[38;5;241m.\u001b[39mshape)\n",
      "Cell \u001b[0;32mIn[46], line 3\u001b[0m, in \u001b[0;36mload_dataset\u001b[0;34m(path, classes, split)\u001b[0m\n\u001b[1;32m      1\u001b[0m \u001b[38;5;28;01mdef\u001b[39;00m \u001b[38;5;21mload_dataset\u001b[39m(path, classes, split\u001b[38;5;241m=\u001b[39m\u001b[38;5;241m0.2\u001b[39m):\n\u001b[1;32m      2\u001b[0m     \u001b[38;5;66;03m## train, validation, testing\u001b[39;00m\n\u001b[0;32m----> 3\u001b[0m     train_images, train_bboxes, train_labels \u001b[38;5;241m=\u001b[39m load_data(path, classes, train\u001b[38;5;241m=\u001b[39m\u001b[38;5;28;01mTrue\u001b[39;00m)\n\u001b[1;32m      5\u001b[0m     split_size \u001b[38;5;241m=\u001b[39m \u001b[38;5;28mint\u001b[39m(\u001b[38;5;28mlen\u001b[39m(train_images) \u001b[38;5;241m*\u001b[39m split)\n\u001b[1;32m      6\u001b[0m     train_images, valid_images \u001b[38;5;241m=\u001b[39m train_test_split(train_images, test_size\u001b[38;5;241m=\u001b[39msplit_size, random_state\u001b[38;5;241m=\u001b[39m\u001b[38;5;241m42\u001b[39m)\n",
      "Cell \u001b[0;32mIn[59], line 23\u001b[0m, in \u001b[0;36mload_data\u001b[0;34m(path, classes, train)\u001b[0m\n\u001b[1;32m     21\u001b[0m y2 \u001b[38;5;241m=\u001b[39m row[\u001b[38;5;241m8\u001b[39m]\n\u001b[1;32m     22\u001b[0m label \u001b[38;5;241m=\u001b[39m row[\u001b[38;5;241m9\u001b[39m]\n\u001b[0;32m---> 23\u001b[0m label_name \u001b[38;5;241m=\u001b[39m classes[label]\n\u001b[1;32m     25\u001b[0m image \u001b[38;5;241m=\u001b[39m os\u001b[38;5;241m.\u001b[39mpath\u001b[38;5;241m.\u001b[39mjoin(path, \u001b[38;5;124m\"\u001b[39m\u001b[38;5;124mimages\u001b[39m\u001b[38;5;124m\"\u001b[39m, name)\n\u001b[1;32m     26\u001b[0m bbox \u001b[38;5;241m=\u001b[39m [x1, y1, x2, y2]\n",
      "\u001b[0;31mTypeError\u001b[0m: list indices must be integers or slices, not str"
     ]
    }
   ],
   "source": [
    "main()"
   ]
  },
  {
   "cell_type": "code",
   "execution_count": null,
   "id": "7df64e18-8055-48be-85ee-1861441d513b",
   "metadata": {},
   "outputs": [],
   "source": []
  }
 ],
 "metadata": {
  "kernelspec": {
   "display_name": "Python 3 (ipykernel)",
   "language": "python",
   "name": "python3"
  },
  "language_info": {
   "codemirror_mode": {
    "name": "ipython",
    "version": 3
   },
   "file_extension": ".py",
   "mimetype": "text/x-python",
   "name": "python",
   "nbconvert_exporter": "python",
   "pygments_lexer": "ipython3",
   "version": "3.12.2"
  }
 },
 "nbformat": 4,
 "nbformat_minor": 5
}
