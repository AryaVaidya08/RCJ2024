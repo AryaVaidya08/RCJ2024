{
 "cells": [
  {
   "cell_type": "code",
   "execution_count": 1,
   "id": "8ae248ac-b9fb-4ee0-b796-b6cacaaa79a4",
   "metadata": {},
   "outputs": [],
   "source": [
    "import cv2 as cv\n",
    "import numpy as np\n",
    "import tensorflow\n",
    "import keras\n",
    "from keras import layers as L\n",
    "import ssl\n",
    "import os"
   ]
  },
  {
   "cell_type": "code",
   "execution_count": 2,
   "id": "501e6972-ce59-4842-8cd1-df47d45f719c",
   "metadata": {},
   "outputs": [
    {
     "data": {
      "text/plain": [
       "<module 'cv2.version' from '/Users/arya/Documents/CodeProjects/RCJ/env/lib/python3.12/site-packages/cv2/version.py'>"
      ]
     },
     "execution_count": 2,
     "metadata": {},
     "output_type": "execute_result"
    }
   ],
   "source": [
    "cv."
   ]
  },
  {
   "cell_type": "code",
   "execution_count": 2,
   "id": "4fe21865-b34b-4a87-a75a-da4b4bd5bd6b",
   "metadata": {},
   "outputs": [],
   "source": [
    "ssl._create_default_https_context = ssl._create_unverified_context"
   ]
  },
  {
   "cell_type": "code",
   "execution_count": 3,
   "id": "2f5be43d-767d-485f-8ab7-66b14ecf48b4",
   "metadata": {},
   "outputs": [],
   "source": [
    "def build_model(input_shape, num_classes=3):\n",
    "    \"\"\" Inputs \"\"\"\n",
    "    inputs = L.Input(input_shape)\n",
    "\n",
    "    \"\"\" Backbone \"\"\"\n",
    "    backbone = keras.applications.MobileNetV2(\n",
    "        include_top=False,\n",
    "        weights=\"imagenet\",\n",
    "        input_tensor=inputs,\n",
    "        alpha=1.0\n",
    "    )\n",
    "    backbone.trainable = True\n",
    "    # backbone.summary()\n",
    "\n",
    "    \"\"\" Detection Head \"\"\"\n",
    "    x = backbone.output\n",
    "    x = L.Conv2D(256, kernel_size=1, padding=\"same\")(x)\n",
    "    x = L.BatchNormalization()(x)\n",
    "    x = L.Activation(\"relu\")(x)\n",
    "    x = L.GlobalAveragePooling2D()(x)\n",
    "    x = L.Dropout(0.5)(x)\n",
    "    bbox = L.Dense(4, activation=\"sigmoid\", name=\"bbox\")(x)\n",
    "    label = L.Dense(num_classes, activation=\"softmax\", name=\"label\")(x)\n",
    "\n",
    "    \"\"\" Model \"\"\"\n",
    "    model = keras.models.Model(inputs=[inputs], outputs=[bbox, label])\n",
    "    return model"
   ]
  },
  {
   "cell_type": "code",
   "execution_count": 4,
   "id": "f1a4efba-6767-406f-bab1-323c31962fa4",
   "metadata": {},
   "outputs": [],
   "source": [
    "def load_model():\n",
    "    model_path = \"./helperScripts/model/model.weights.h5\"\n",
    "    \n",
    "    model = build_model((218, 384, 3))\n",
    "    model.load_weights(model_path)\n",
    "\n",
    "    return model"
   ]
  },
  {
   "cell_type": "code",
   "execution_count": 5,
   "id": "17d6644a-1aba-4d1d-9a7b-6d67b63acc96",
   "metadata": {},
   "outputs": [],
   "source": [
    "def build_blob_detector():\n",
    "    params = cv.SimpleBlobDetector_Params()\n",
    "\n",
    "    params.filterByArea = True\n",
    "    params.minArea = 50\n",
    "    params.maxArea = 100000\n",
    "    \n",
    "    params.filterByCircularity = True\n",
    "    params.minCircularity = 0.45\n",
    "    \n",
    "    params.filterByInertia = True\n",
    "    params.minInertiaRatio = 0.4\n",
    "\n",
    "    return cv.SimpleBlobDetector_create(params)"
   ]
  },
  {
   "cell_type": "code",
   "execution_count": 6,
   "id": "4f0413b4-7fe2-440a-b106-f9e84e982a7d",
   "metadata": {},
   "outputs": [],
   "source": [
    "def get_prediction(binary_result):\n",
    "    cv.imwrite(\"img.jpg\", cv.resize(binary_result, (384, 218)))\n",
    "    img = cv.imread(\"img.jpg\")\n",
    "    os.remove(\"img.jpg\")\n",
    "\n",
    "    x = cv.resize(img, (384, 218))\n",
    "    x = (x - 127.5) / 127.5\n",
    "    x = np.expand_dims(x, axis=0)\n",
    "\n",
    "    pred_bbox, label = model.predict(x, verbose=0)\n",
    "    \n",
    "    label_found = \"\"\n",
    "    color = (221, 221, 221)\n",
    "    if label[0][0] >= label[0][1] and label[0][0] >= label[0][2]:\n",
    "        label_found = \"H\"\n",
    "        color = (79, 42, 244)\n",
    "    elif label[0][1] >= label[0][0] and label[0][1] >= label[0][2]:\n",
    "        label_found = \"S\"\n",
    "        color = (21, 64, 47)\n",
    "    elif label[0][2] >= label[0][0] and label[0][2] >= label[0][1]:\n",
    "        label_found = \"U\"\n",
    "        color = (197, 73, 245)\n",
    "\n",
    "    max_confidence = max(label[0][0], label[0][1], label[0][2])\n",
    "    if not max_confidence >= .85:\n",
    "        label_found = \"/\"\n",
    "        color = (0, 0, 0)\n",
    "\n",
    "    return label_found, max_confidence, color"
   ]
  },
  {
   "cell_type": "code",
   "execution_count": 7,
   "id": "8d9c11b2-b4f3-45d9-8553-283d1d319c0e",
   "metadata": {},
   "outputs": [],
   "source": [
    "def get_colors(frame, detector):\n",
    "    keypoints = detector.detect(frame)\n",
    "\n",
    "    detected = []\n",
    "    if len(keypoints) != 0:\n",
    "        for keypoint in keypoints:\n",
    "            color = frame[int(keypoint.pt[1]), int(keypoint.pt[0])]\n",
    "            blue = color[0]\n",
    "            green = color[1]\n",
    "            red = color[2]\n",
    "\n",
    "            if (red / green) + (red / blue) >= 3.5:\n",
    "                detected.append(\"Red\")\n",
    "            if (green / blue) + (green / red) >= 2.7:\n",
    "                detected.append(\"Green\")\n",
    "            if (green * red) / blue >= 400:\n",
    "                detected.append(\"Yellow\")\n",
    "\n",
    "    return keypoints, detected"
   ]
  },
  {
   "cell_type": "code",
   "execution_count": 8,
   "id": "bc73dfac-eec8-4c55-a7f8-261e694321c9",
   "metadata": {},
   "outputs": [
    {
     "name": "stderr",
     "output_type": "stream",
     "text": [
      "2024-05-06 07:56:41.257 python[35780:4513551] WARNING: AVCaptureDeviceTypeExternal is deprecated for Continuity Cameras. Please use AVCaptureDeviceTypeContinuityCamera and add NSCameraUseContinuityCameraDeviceType to your Info.plist.\n",
      "/var/folders/4w/7mmrnj315pzgcqvpx7n96sf40000gn/T/ipykernel_35780/2947174705.py:6: UserWarning: `input_shape` is undefined or non-square, or `rows` is not in [96, 128, 160, 192, 224]. Weights for input shape (224, 224) will be loaded as the default.\n",
      "  backbone = keras.applications.MobileNetV2(\n",
      "/var/folders/4w/7mmrnj315pzgcqvpx7n96sf40000gn/T/ipykernel_35780/3158661915.py:16: RuntimeWarning: overflow encountered in scalar multiply\n",
      "  if (green * red) / blue >= 400:\n"
     ]
    }
   ],
   "source": [
    "vid = cv.VideoCapture(0)\n",
    "model = load_model()\n",
    "detector = build_blob_detector()\n",
    "\n",
    "while True:\n",
    "    ret, frame = vid.read()\n",
    "\n",
    "    grey = cv.cvtColor(frame, cv.COLOR_RGB2GRAY)\n",
    "    ret, binary_result = cv.threshold(grey, 127, 255, cv.THRESH_BINARY)\n",
    "\n",
    "    \n",
    "    label_found, max_confidence, color = get_prediction(binary_result)\n",
    "    keypoints, detected = get_colors(frame, detector)\n",
    "    \n",
    "    font_size = 0.5\n",
    "    letter_text = f\"{label_found} - {max_confidence:.3f}\"\n",
    "    color_text = \" & \".join(detected) if len(detected) > 0 else \"None\"\n",
    "    \n",
    "    cv.putText(frame, letter_text, (5, 20), cv.FONT_HERSHEY_SIMPLEX, font_size, color, 2)\n",
    "    cv.putText(frame, color_text, (5, 60), cv.FONT_HERSHEY_SIMPLEX, font_size, (255, 0, 0), 2)\n",
    "\n",
    "    cv.imshow(\"Normal\", frame)\n",
    "\n",
    "    if cv.waitKey(1) & 0xFF == ord('q'):\n",
    "        break\n",
    "\n",
    "vid.release()\n",
    "cv.destroyAllWindows()"
   ]
  },
  {
   "cell_type": "code",
   "execution_count": null,
   "id": "f3341bc3-407b-4df2-863f-d7e6e7aea258",
   "metadata": {},
   "outputs": [],
   "source": []
  }
 ],
 "metadata": {
  "kernelspec": {
   "display_name": "Python 3 (ipykernel)",
   "language": "python",
   "name": "python3"
  },
  "language_info": {
   "codemirror_mode": {
    "name": "ipython",
    "version": 3
   },
   "file_extension": ".py",
   "mimetype": "text/x-python",
   "name": "python",
   "nbconvert_exporter": "python",
   "pygments_lexer": "ipython3",
   "version": "3.12.2"
  }
 },
 "nbformat": 4,
 "nbformat_minor": 5
}
